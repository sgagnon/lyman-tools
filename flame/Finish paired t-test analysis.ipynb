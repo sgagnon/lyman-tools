{
 "cells": [
  {
   "cell_type": "markdown",
   "metadata": {},
   "source": [
    "# After running flame for paired t-test analysis, finish mixed fx workflow"
   ]
  },
  {
   "cell_type": "code",
   "execution_count": 2,
   "metadata": {
    "collapsed": false
   },
   "outputs": [
    {
     "name": "stderr",
     "output_type": "stream",
     "text": [
      "/Users/steph-backup/anaconda/lib/python2.7/site-packages/matplotlib/__init__.py:872: UserWarning: axes.color_cycle is deprecated and replaced with axes.prop_cycle; please use the latter.\n",
      "  warnings.warn(self.msg_depr % (key, alt_key))\n"
     ]
    }
   ],
   "source": [
    "import os\n",
    "import os.path as op\n",
    "\n",
    "import numpy as np\n",
    "import pandas as pd\n",
    "import nibabel as nib\n",
    "from scipy.ndimage import binary_dilation\n",
    "from skimage import morphology\n",
    "import matplotlib as mpl\n",
    "import matplotlib.pyplot as plt\n",
    "\n",
    "from nipype import IdentityInterface, Node, Workflow\n",
    "from nipype.interfaces.base import (BaseInterface,\n",
    "                                    BaseInterfaceInputSpec,\n",
    "                                    InputMultiPath, OutputMultiPath,\n",
    "                                    TraitedSpec, File, traits)\n",
    "from nipype.interfaces import fsl, freesurfer\n",
    "\n",
    "import seaborn as sns\n",
    "from moss import locator\n",
    "from moss.mosaic import Mosaic\n",
    "\n",
    "import lyman\n",
    "from lyman import tools\n",
    "from lyman.tools import SaveParameters, add_suffix, nii_to_png\n"
   ]
  },
  {
   "cell_type": "markdown",
   "metadata": {},
   "source": [
    "### AP: stress group safe vs. threat SH > CR"
   ]
  },
  {
   "cell_type": "code",
   "execution_count": 29,
   "metadata": {
    "collapsed": false
   },
   "outputs": [],
   "source": [
    "os.environ[\"SUBJECTS_DIR\"] = '/Volumes/group/awagner/sgagnon/AP/data'\n",
    "os.environ[\"LYMAN_DIR\"] = '/Volumes/group/awagner/sgagnon/AP/scripts'\n",
    "exp = 'ap_memory_raw'\n",
    "altmodel = 'byshockCond'\n",
    "subjects = '/Volumes/group/awagner/sgagnon/AP/scripts/subjects_shock_byshockCondSH.txt'\n",
    "basedir = '/Volumes/group/awagner/sgagnon/AP/analysis/ap_memory_raw-byshockCond/group_stress/safe-threat_sourcehit-cr'\n",
    "\n",
    "project = lyman.gather_project_info()\n",
    "exp_info = lyman.gather_experiment_info(exp, altmodel)\n",
    "\n",
    "subject_list = lyman.determine_subjects([subjects])\n",
    "subj_source = Node(IdentityInterface(fields=[\"subject_id\"]),\n",
    "                   name=\"subj_source\")\n",
    "subj_source.inputs.subject_id = subject_list\n",
    "\n",
    "for contrast_num in [1, 2]:\n",
    "    \n",
    "    # Estimate smoothness\n",
    "    smoothest = fsl.SmoothEstimate()\n",
    "    smoothest.inputs.mask_file = basedir + '/stats+/mask.nii.gz'\n",
    "    smoothest.inputs.zstat_file = basedir + '/stats+/zstat'+str(contrast_num)+'.nii.gz'\n",
    "    smooth = smoothest.run()\n",
    "    \n",
    "    # Cluster correct\n",
    "    cluster = fsl.Cluster(in_file=smoothest.inputs.zstat_file,\n",
    "                          threshold=exp_info[\"cluster_zthresh\"],\n",
    "                          pthreshold=exp_info[\"grf_pthresh\"],\n",
    "                          out_threshold_file=basedir+'/zstat'+str(contrast_num)+'_threshold.nii.gz',\n",
    "                          out_index_file=basedir+'/zstat'+str(contrast_num)+'_index.nii.gz',\n",
    "                          out_localmax_txt_file=basedir+'/zstat'+str(contrast_num)+'_localmax.txt',\n",
    "                          peak_distance=exp_info[\"peak_distance\"],\n",
    "                          use_mm=True,\n",
    "                          dlh=smooth.outputs.dlh,\n",
    "                          volume=smooth.outputs.volume)\n",
    "    cluster.run()"
   ]
  },
  {
   "cell_type": "markdown",
   "metadata": {
    "collapsed": true
   },
   "source": [
    "## SST: Control planning (probe - habit)"
   ]
  },
  {
   "cell_type": "code",
   "execution_count": 5,
   "metadata": {
    "collapsed": false
   },
   "outputs": [
    {
     "name": "stderr",
     "output_type": "stream",
     "text": [
      "INFO:interface:stdout 2017-08-02T16:16:28.661851:DLH 0.00709493\n",
      "INFO:interface:stdout 2017-08-02T16:16:28.661851:VOLUME 208553\n",
      "INFO:interface:stdout 2017-08-02T16:16:28.661851:RESELS 650.699\n",
      "/Users/steph-backup/anaconda/lib/python2.7/site-packages/nipype-0.11.0-py2.7.egg/nipype/interfaces/base.py:419: UserWarning: Input pthreshold requires inputs: dlh, volume\n",
      "  warn(msg)\n",
      "INFO:interface:stdout 2017-08-02T16:16:30.679957:Cluster Index\tVoxels\tP\t-log10(P)\tMAX\tMAX X (vox)\tMAX Y (vox)\tMAX Z (vox)\tCOG X (vox)\tCOG Y (vox)\tCOG Z (vox)\n",
      "INFO:interface:stdout 2017-08-02T16:16:30.679957:1\t59823\t1.77e-23\t22.8\t6\t60\t76\t36\t47.3\t54.6\t47.9\n",
      "INFO:interface:stdout 2017-08-02T16:16:32.174147:DLH 0.00709493\n",
      "INFO:interface:stdout 2017-08-02T16:16:32.174147:VOLUME 208553\n",
      "INFO:interface:stdout 2017-08-02T16:16:32.174147:RESELS 650.699\n",
      "/Users/steph-backup/anaconda/lib/python2.7/site-packages/nipype-0.11.0-py2.7.egg/nipype/interfaces/base.py:419: UserWarning: Input pthreshold requires inputs: dlh, volume\n",
      "  warn(msg)\n",
      "INFO:interface:stdout 2017-08-02T16:16:32.458899:Cluster Index\tVoxels\tP\t-log10(P)\tMAX\tMAX X (vox)\tMAX Y (vox)\tMAX Z (vox)\tCOG X (vox)\tCOG Y (vox)\tCOG Z (vox)\n",
      "INFO:interface:stdout 2017-08-02T16:16:32.458899:1\t2744\t0.0101\t2\t4.29\t25\t56\t33\t18.8\t56.1\t45.1\n"
     ]
    }
   ],
   "source": [
    "os.environ[\"SUBJECTS_DIR\"] = '/Volumes/group/awagner/sgagnon/SST/data'\n",
    "os.environ[\"LYMAN_DIR\"] = '/Volumes/group/awagner/sgagnon/SST/scripts'\n",
    "exp = 'mvpa'\n",
    "altmodel = 'goodruntype_filt'\n",
    "subjects = '/Volumes/group/awagner/sgagnon/SST/scripts/subjects_control.txt'\n",
    "basedir = '/Volumes/group/awagner/sgagnon/SST/analysis/mvpa-goodruntype_filt/group_control/probe-habit'\n",
    "\n",
    "project = lyman.gather_project_info()\n",
    "exp_info = lyman.gather_experiment_info(exp, altmodel)\n",
    "\n",
    "subject_list = lyman.determine_subjects([subjects])\n",
    "subj_source = Node(IdentityInterface(fields=[\"subject_id\"]),\n",
    "                   name=\"subj_source\")\n",
    "subj_source.inputs.subject_id = subject_list\n",
    "\n",
    "for contrast_num in [1, 2]:\n",
    "    \n",
    "    # Estimate smoothness\n",
    "    smoothest = fsl.SmoothEstimate()\n",
    "    smoothest.inputs.mask_file = basedir + '/stats/mask.nii.gz'\n",
    "    smoothest.inputs.zstat_file = basedir + '/stats/zstat'+str(contrast_num)+'.nii.gz'\n",
    "    smooth = smoothest.run()\n",
    "    \n",
    "    # Cluster correct\n",
    "    cluster = fsl.Cluster(in_file=smoothest.inputs.zstat_file,\n",
    "                          threshold=exp_info[\"cluster_zthresh\"],\n",
    "                          pthreshold=exp_info[\"grf_pthresh\"],\n",
    "                          out_threshold_file=basedir+'/zstat'+str(contrast_num)+'_threshold.nii.gz',\n",
    "                          out_index_file=basedir+'/zstat'+str(contrast_num)+'_index.nii.gz',\n",
    "                          out_localmax_txt_file=basedir+'/zstat'+str(contrast_num)+'_localmax.txt',\n",
    "                          peak_distance=exp_info[\"peak_distance\"],\n",
    "                          use_mm=True,\n",
    "                          dlh=smooth.outputs.dlh,\n",
    "                          volume=smooth.outputs.volume)\n",
    "    cluster.run()"
   ]
  },
  {
   "cell_type": "markdown",
   "metadata": {},
   "source": [
    "## SST: Control nav (probe - habit)"
   ]
  },
  {
   "cell_type": "code",
   "execution_count": 7,
   "metadata": {
    "collapsed": false
   },
   "outputs": [
    {
     "name": "stderr",
     "output_type": "stream",
     "text": [
      "INFO:interface:stdout 2017-08-02T16:47:26.715750:DLH 0.0126696\n",
      "INFO:interface:stdout 2017-08-02T16:47:26.715750:VOLUME 208553\n",
      "INFO:interface:stdout 2017-08-02T16:47:26.715750:RESELS 364.389\n",
      "/Users/steph-backup/anaconda/lib/python2.7/site-packages/nipype-0.11.0-py2.7.egg/nipype/interfaces/base.py:419: UserWarning: Input pthreshold requires inputs: dlh, volume\n",
      "  warn(msg)\n",
      "INFO:interface:stdout 2017-08-02T16:47:27.852806:Cluster Index\tVoxels\tP\t-log10(P)\tMAX\tMAX X (vox)\tMAX Y (vox)\tMAX Z (vox)\tCOG X (vox)\tCOG Y (vox)\tCOG Z (vox)\n",
      "INFO:interface:stdout 2017-08-02T16:47:27.852806:1\t8124\t1.12e-08\t7.95\t4.99\t41\t82\t52\t30.6\t77.8\t49.8\n",
      "INFO:interface:stdout 2017-08-02T16:47:29.492612:DLH 0.0126696\n",
      "INFO:interface:stdout 2017-08-02T16:47:29.492612:VOLUME 208553\n",
      "INFO:interface:stdout 2017-08-02T16:47:29.492612:RESELS 364.389\n",
      "/Users/steph-backup/anaconda/lib/python2.7/site-packages/nipype-0.11.0-py2.7.egg/nipype/interfaces/base.py:419: UserWarning: Input pthreshold requires inputs: dlh, volume\n",
      "  warn(msg)\n",
      "INFO:interface:stdout 2017-08-02T16:47:30.167913:Cluster Index\tVoxels\tP\t-log10(P)\tMAX\tMAX X (vox)\tMAX Y (vox)\tMAX Z (vox)\tCOG X (vox)\tCOG Y (vox)\tCOG Z (vox)\n",
      "INFO:interface:stdout 2017-08-02T16:47:30.167913:1\t28370\t9.92e-21\t20\t5.45\t45\t53\t70\t44.6\t55\t50.6\n"
     ]
    }
   ],
   "source": [
    "os.environ[\"SUBJECTS_DIR\"] = '/Volumes/group/awagner/sgagnon/SST/data'\n",
    "os.environ[\"LYMAN_DIR\"] = '/Volumes/group/awagner/sgagnon/SST/scripts'\n",
    "exp = 'mvpa'\n",
    "altmodel = 'goodruntype_filt'\n",
    "subjects = '/Volumes/group/awagner/sgagnon/SST/scripts/subjects_control.txt'\n",
    "basedir = '/Volumes/group/awagner/sgagnon/SST/analysis/mvpa-goodruntype_filt/group_control/nav_probe-habit'\n",
    "\n",
    "project = lyman.gather_project_info()\n",
    "exp_info = lyman.gather_experiment_info(exp, altmodel)\n",
    "\n",
    "subject_list = lyman.determine_subjects([subjects])\n",
    "subj_source = Node(IdentityInterface(fields=[\"subject_id\"]),\n",
    "                   name=\"subj_source\")\n",
    "subj_source.inputs.subject_id = subject_list\n",
    "\n",
    "for contrast_num in [1, 2]:\n",
    "    \n",
    "    # Estimate smoothness\n",
    "    smoothest = fsl.SmoothEstimate()\n",
    "    smoothest.inputs.mask_file = basedir + '/stats/mask.nii.gz'\n",
    "    smoothest.inputs.zstat_file = basedir + '/stats/zstat'+str(contrast_num)+'.nii.gz'\n",
    "    smooth = smoothest.run()\n",
    "    \n",
    "    # Cluster correct\n",
    "    cluster = fsl.Cluster(in_file=smoothest.inputs.zstat_file,\n",
    "                          threshold=exp_info[\"cluster_zthresh\"],\n",
    "                          pthreshold=exp_info[\"grf_pthresh\"],\n",
    "                          out_threshold_file=basedir+'/zstat'+str(contrast_num)+'_threshold.nii.gz',\n",
    "                          out_index_file=basedir+'/zstat'+str(contrast_num)+'_index.nii.gz',\n",
    "                          out_localmax_txt_file=basedir+'/zstat'+str(contrast_num)+'_localmax.txt',\n",
    "                          peak_distance=exp_info[\"peak_distance\"],\n",
    "                          use_mm=True,\n",
    "                          dlh=smooth.outputs.dlh,\n",
    "                          volume=smooth.outputs.volume)\n",
    "    cluster.run()"
   ]
  },
  {
   "cell_type": "markdown",
   "metadata": {},
   "source": [
    "## SST: Stress planning (probe - habit)"
   ]
  },
  {
   "cell_type": "code",
   "execution_count": 9,
   "metadata": {
    "collapsed": false
   },
   "outputs": [
    {
     "name": "stderr",
     "output_type": "stream",
     "text": [
      "INFO:interface:stdout 2017-08-02T17:37:35.439309:DLH 0.0125923\n",
      "INFO:interface:stdout 2017-08-02T17:37:35.439309:VOLUME 213456\n",
      "INFO:interface:stdout 2017-08-02T17:37:35.439309:RESELS 366.626\n",
      "/Users/steph-backup/anaconda/lib/python2.7/site-packages/nipype-0.11.0-py2.7.egg/nipype/interfaces/base.py:419: UserWarning: Input pthreshold requires inputs: dlh, volume\n",
      "  warn(msg)\n",
      "INFO:interface:stdout 2017-08-02T17:37:36.419013:Cluster Index\tVoxels\tP\t-log10(P)\tMAX\tMAX X (vox)\tMAX Y (vox)\tMAX Z (vox)\tCOG X (vox)\tCOG Y (vox)\tCOG Z (vox)\n",
      "INFO:interface:stdout 2017-08-02T17:37:36.419013:3\t10490\t2.41e-10\t9.62\t5.33\t36\t32\t49\t44.3\t31\t55.9\n",
      "INFO:interface:stdout 2017-08-02T17:37:36.419013:2\t5132\t3.4e-06\t5.47\t4.85\t64\t75\t48\t64.9\t65.7\t49.3\n",
      "INFO:interface:stdout 2017-08-02T17:37:36.419013:1\t3931\t4.3e-05\t4.37\t4.57\t21\t75\t49\t33.5\t71.3\t58.4\n",
      "INFO:interface:stdout 2017-08-02T17:37:37.766138:DLH 0.0125923\n",
      "INFO:interface:stdout 2017-08-02T17:37:37.766138:VOLUME 213456\n",
      "INFO:interface:stdout 2017-08-02T17:37:37.766138:RESELS 366.626\n",
      "/Users/steph-backup/anaconda/lib/python2.7/site-packages/nipype-0.11.0-py2.7.egg/nipype/interfaces/base.py:419: UserWarning: Input pthreshold requires inputs: dlh, volume\n",
      "  warn(msg)\n",
      "INFO:interface:stdout 2017-08-02T17:37:38.205035:Cluster Index\tVoxels\tP\t-log10(P)\tMAX\tMAX X (vox)\tMAX Y (vox)\tMAX Z (vox)\tCOG X (vox)\tCOG Y (vox)\tCOG Z (vox)\n",
      "INFO:interface:stdout 2017-08-02T17:37:38.205035:4\t7666\t2.79e-08\t7.55\t5.51\t55\t26\t32\t44.4\t22.6\t37.1\n",
      "INFO:interface:stdout 2017-08-02T17:37:38.205035:3\t2526\t0.00121\t2.92\t4.22\t12\t48\t51\t17.2\t53.7\t45.6\n",
      "INFO:interface:stdout 2017-08-02T17:37:38.208856:2\t2158\t0.0032\t2.49\t3.9\t39\t77\t31\t45.6\t81.5\t32.1\n",
      "INFO:interface:stdout 2017-08-02T17:37:38.208856:1\t1980\t0.00522\t2.28\t3.89\t73\t48\t43\t69.5\t54.7\t42.4\n"
     ]
    }
   ],
   "source": [
    "os.environ[\"SUBJECTS_DIR\"] = '/Volumes/group/awagner/sgagnon/SST/data'\n",
    "os.environ[\"LYMAN_DIR\"] = '/Volumes/group/awagner/sgagnon/SST/scripts'\n",
    "exp = 'mvpa'\n",
    "altmodel = 'goodruntype_filt'\n",
    "subjects = '/Volumes/group/awagner/sgagnon/SST/scripts/subjects_stress.txt'\n",
    "basedir = '/Volumes/group/awagner/sgagnon/SST/analysis/mvpa-goodruntype_filt/group_stress/probe-habit'\n",
    "\n",
    "project = lyman.gather_project_info()\n",
    "exp_info = lyman.gather_experiment_info(exp, altmodel)\n",
    "\n",
    "subject_list = lyman.determine_subjects([subjects])\n",
    "subj_source = Node(IdentityInterface(fields=[\"subject_id\"]),\n",
    "                   name=\"subj_source\")\n",
    "subj_source.inputs.subject_id = subject_list\n",
    "\n",
    "for contrast_num in [1, 2]:\n",
    "    \n",
    "    # Estimate smoothness\n",
    "    smoothest = fsl.SmoothEstimate()\n",
    "    smoothest.inputs.mask_file = basedir + '/stats/mask.nii.gz'\n",
    "    smoothest.inputs.zstat_file = basedir + '/stats/zstat'+str(contrast_num)+'.nii.gz'\n",
    "    smooth = smoothest.run()\n",
    "    \n",
    "    # Cluster correct\n",
    "    cluster = fsl.Cluster(in_file=smoothest.inputs.zstat_file,\n",
    "                          threshold=exp_info[\"cluster_zthresh\"],\n",
    "                          pthreshold=exp_info[\"grf_pthresh\"],\n",
    "                          out_threshold_file=basedir+'/zstat'+str(contrast_num)+'_threshold.nii.gz',\n",
    "                          out_index_file=basedir+'/zstat'+str(contrast_num)+'_index.nii.gz',\n",
    "                          out_localmax_txt_file=basedir+'/zstat'+str(contrast_num)+'_localmax.txt',\n",
    "                          peak_distance=exp_info[\"peak_distance\"],\n",
    "                          use_mm=True,\n",
    "                          dlh=smooth.outputs.dlh,\n",
    "                          volume=smooth.outputs.volume)\n",
    "    cluster.run()"
   ]
  },
  {
   "cell_type": "markdown",
   "metadata": {},
   "source": [
    "## SST: Stress nav (probe - habit)"
   ]
  },
  {
   "cell_type": "code",
   "execution_count": 8,
   "metadata": {
    "collapsed": false
   },
   "outputs": [
    {
     "name": "stderr",
     "output_type": "stream",
     "text": [
      "INFO:interface:stdout 2017-08-02T17:18:49.798773:DLH 0.00893559\n",
      "INFO:interface:stdout 2017-08-02T17:18:49.798773:VOLUME 213456\n",
      "INFO:interface:stdout 2017-08-02T17:18:49.798773:RESELS 516.66\n",
      "/Users/steph-backup/anaconda/lib/python2.7/site-packages/nipype-0.11.0-py2.7.egg/nipype/interfaces/base.py:419: UserWarning: Input pthreshold requires inputs: dlh, volume\n",
      "  warn(msg)\n",
      "INFO:interface:stdout 2017-08-02T17:18:50.452524:Cluster Index\tVoxels\tP\t-log10(P)\tMAX\tMAX X (vox)\tMAX Y (vox)\tMAX Z (vox)\tCOG X (vox)\tCOG Y (vox)\tCOG Z (vox)\n",
      "INFO:interface:stdout 2017-08-02T17:18:52.134072:DLH 0.00893559\n",
      "INFO:interface:stdout 2017-08-02T17:18:52.134072:VOLUME 213456\n",
      "INFO:interface:stdout 2017-08-02T17:18:52.134072:RESELS 516.66\n",
      "/Users/steph-backup/anaconda/lib/python2.7/site-packages/nipype-0.11.0-py2.7.egg/nipype/interfaces/base.py:419: UserWarning: Input pthreshold requires inputs: dlh, volume\n",
      "  warn(msg)\n",
      "INFO:interface:stdout 2017-08-02T17:18:52.509355:Cluster Index\tVoxels\tP\t-log10(P)\tMAX\tMAX X (vox)\tMAX Y (vox)\tMAX Z (vox)\tCOG X (vox)\tCOG Y (vox)\tCOG Z (vox)\n",
      "INFO:interface:stdout 2017-08-02T17:18:52.509355:2\t41226\t3.18e-21\t20.5\t5.66\t46\t52\t69\t48.3\t58.5\t47.4\n",
      "INFO:interface:stdout 2017-08-02T17:18:52.509355:1\t2078\t0.0161\t1.79\t5.24\t21\t26\t23\t26.2\t26.8\t24\n"
     ]
    }
   ],
   "source": [
    "os.environ[\"SUBJECTS_DIR\"] = '/Volumes/group/awagner/sgagnon/SST/data'\n",
    "os.environ[\"LYMAN_DIR\"] = '/Volumes/group/awagner/sgagnon/SST/scripts'\n",
    "exp = 'mvpa'\n",
    "altmodel = 'goodruntype_filt'\n",
    "subjects = '/Volumes/group/awagner/sgagnon/SST/scripts/subjects_stress.txt'\n",
    "basedir = '/Volumes/group/awagner/sgagnon/SST/analysis/mvpa-goodruntype_filt/group_stress/nav_probe-habit'\n",
    "\n",
    "project = lyman.gather_project_info()\n",
    "exp_info = lyman.gather_experiment_info(exp, altmodel)\n",
    "\n",
    "subject_list = lyman.determine_subjects([subjects])\n",
    "subj_source = Node(IdentityInterface(fields=[\"subject_id\"]),\n",
    "                   name=\"subj_source\")\n",
    "subj_source.inputs.subject_id = subject_list\n",
    "\n",
    "for contrast_num in [1, 2]:\n",
    "    \n",
    "    # Estimate smoothness\n",
    "    smoothest = fsl.SmoothEstimate()\n",
    "    smoothest.inputs.mask_file = basedir + '/stats/mask.nii.gz'\n",
    "    smoothest.inputs.zstat_file = basedir + '/stats/zstat'+str(contrast_num)+'.nii.gz'\n",
    "    smooth = smoothest.run()\n",
    "    \n",
    "    # Cluster correct\n",
    "    cluster = fsl.Cluster(in_file=smoothest.inputs.zstat_file,\n",
    "                          threshold=exp_info[\"cluster_zthresh\"],\n",
    "                          pthreshold=exp_info[\"grf_pthresh\"],\n",
    "                          out_threshold_file=basedir+'/zstat'+str(contrast_num)+'_threshold.nii.gz',\n",
    "                          out_index_file=basedir+'/zstat'+str(contrast_num)+'_index.nii.gz',\n",
    "                          out_localmax_txt_file=basedir+'/zstat'+str(contrast_num)+'_localmax.txt',\n",
    "                          peak_distance=exp_info[\"peak_distance\"],\n",
    "                          use_mm=True,\n",
    "                          dlh=smooth.outputs.dlh,\n",
    "                          volume=smooth.outputs.volume)\n",
    "    cluster.run()"
   ]
  },
  {
   "cell_type": "code",
   "execution_count": null,
   "metadata": {
    "collapsed": true
   },
   "outputs": [],
   "source": []
  },
  {
   "cell_type": "code",
   "execution_count": 12,
   "metadata": {
    "collapsed": false
   },
   "outputs": [
    {
     "name": "stderr",
     "output_type": "stream",
     "text": [
      "INFO:interface:stdout 2017-08-03T13:39:52.816864:DLH 0.00768363\n",
      "INFO:interface:stdout 2017-08-03T13:39:52.816864:VOLUME 208223\n",
      "INFO:interface:stdout 2017-08-03T13:39:52.816864:RESELS 600.844\n",
      "/Users/steph-backup/anaconda/lib/python2.7/site-packages/nipype-0.11.0-py2.7.egg/nipype/interfaces/base.py:419: UserWarning: Input pthreshold requires inputs: dlh, volume\n",
      "  warn(msg)\n",
      "INFO:interface:stdout 2017-08-03T13:39:54.045282:Cluster Index\tVoxels\tP\t-log10(P)\tMAX\tMAX X (vox)\tMAX Y (vox)\tMAX Z (vox)\tCOG X (vox)\tCOG Y (vox)\tCOG Z (vox)\n",
      "INFO:interface:stdout 2017-08-03T13:39:54.045282:1\t59820\t9.6e-25\t24\t7.31\t59\t76\t36\t46.8\t52.8\t48.1\n",
      "INFO:interface:stdout 2017-08-03T13:39:54.938788:DLH 0.0143179\n",
      "INFO:interface:stdout 2017-08-03T13:39:54.938788:VOLUME 208223\n",
      "INFO:interface:stdout 2017-08-03T13:39:54.938788:RESELS 322.44\n",
      "/Users/steph-backup/anaconda/lib/python2.7/site-packages/nipype-0.11.0-py2.7.egg/nipype/interfaces/base.py:419: UserWarning: Input pthreshold requires inputs: dlh, volume\n",
      "  warn(msg)\n",
      "INFO:interface:stdout 2017-08-03T13:39:55.162348:Cluster Index\tVoxels\tP\t-log10(P)\tMAX\tMAX X (vox)\tMAX Y (vox)\tMAX Z (vox)\tCOG X (vox)\tCOG Y (vox)\tCOG Z (vox)\n",
      "INFO:interface:stdout 2017-08-03T13:39:55.162348:2\t5066\t1.07e-06\t5.97\t3.79\t68\t71\t57\t59.1\t77.9\t42.5\n",
      "INFO:interface:stdout 2017-08-03T13:39:55.162348:1\t2700\t0.000348\t3.46\t3.9\t45\t17\t32\t46.7\t23.6\t34.6\n"
     ]
    }
   ],
   "source": [
    "os.environ[\"SUBJECTS_DIR\"] = '/Volumes/group/awagner/sgagnon/SST/data'\n",
    "os.environ[\"LYMAN_DIR\"] = '/Volumes/group/awagner/sgagnon/SST/scripts'\n",
    "exp = 'mvpa'\n",
    "altmodel = 'goodruntype_filt'\n",
    "subjects = '/Volumes/group/awagner/sgagnon/SST/scripts/subjects.txt'\n",
    "basedir = '/Volumes/group/awagner/sgagnon/SST/analysis/mvpa-goodruntype_filt/group/probe-habit_control-stress'\n",
    "\n",
    "project = lyman.gather_project_info()\n",
    "exp_info = lyman.gather_experiment_info(exp, altmodel)\n",
    "\n",
    "subject_list = lyman.determine_subjects([subjects])\n",
    "subj_source = Node(IdentityInterface(fields=[\"subject_id\"]),\n",
    "                   name=\"subj_source\")\n",
    "subj_source.inputs.subject_id = subject_list\n",
    "\n",
    "for contrast_num in [1, 2]:\n",
    "    \n",
    "    # Estimate smoothness\n",
    "    smoothest = fsl.SmoothEstimate()\n",
    "    smoothest.inputs.mask_file = basedir + '/stats/mask.nii.gz'\n",
    "    smoothest.inputs.zstat_file = basedir + '/stats/zstat'+str(contrast_num)+'.nii.gz'\n",
    "    smooth = smoothest.run()\n",
    "    \n",
    "    # Cluster correct\n",
    "    cluster = fsl.Cluster(in_file=smoothest.inputs.zstat_file,\n",
    "                          threshold=exp_info[\"cluster_zthresh\"],\n",
    "                          pthreshold=exp_info[\"grf_pthresh\"],\n",
    "                          out_threshold_file=basedir+'/zstat'+str(contrast_num)+'_threshold.nii.gz',\n",
    "                          out_index_file=basedir+'/zstat'+str(contrast_num)+'_index.nii.gz',\n",
    "                          out_localmax_txt_file=basedir+'/zstat'+str(contrast_num)+'_localmax.txt',\n",
    "                          peak_distance=exp_info[\"peak_distance\"],\n",
    "                          use_mm=True,\n",
    "                          dlh=smooth.outputs.dlh,\n",
    "                          volume=smooth.outputs.volume)\n",
    "    cluster.run()"
   ]
  },
  {
   "cell_type": "code",
   "execution_count": 14,
   "metadata": {
    "collapsed": false
   },
   "outputs": [
    {
     "name": "stderr",
     "output_type": "stream",
     "text": [
      "INFO:interface:stdout 2017-08-03T14:28:18.250612:DLH 0.00703817\n",
      "INFO:interface:stdout 2017-08-03T14:28:18.250612:VOLUME 208223\n",
      "INFO:interface:stdout 2017-08-03T14:28:18.250612:RESELS 655.947\n",
      "/Users/steph-backup/anaconda/lib/python2.7/site-packages/nipype-0.11.0-py2.7.egg/nipype/interfaces/base.py:419: UserWarning: Input pthreshold requires inputs: dlh, volume\n",
      "  warn(msg)\n",
      "INFO:interface:stdout 2017-08-03T14:28:18.617807:Cluster Index\tVoxels\tP\t-log10(P)\tMAX\tMAX X (vox)\tMAX Y (vox)\tMAX Z (vox)\tCOG X (vox)\tCOG Y (vox)\tCOG Z (vox)\n",
      "INFO:interface:stdout 2017-08-03T14:28:18.617807:1\t61891\t6.72e-24\t23.2\t6.37\t59\t75\t36\t47.3\t54.6\t47.5\n",
      "INFO:interface:stdout 2017-08-03T14:28:20.059803:DLH 0.0117295\n",
      "INFO:interface:stdout 2017-08-03T14:28:20.059803:VOLUME 208223\n",
      "INFO:interface:stdout 2017-08-03T14:28:20.059803:RESELS 393.594\n",
      "/Users/steph-backup/anaconda/lib/python2.7/site-packages/nipype-0.11.0-py2.7.egg/nipype/interfaces/base.py:419: UserWarning: Input pthreshold requires inputs: dlh, volume\n",
      "  warn(msg)\n",
      "INFO:interface:stdout 2017-08-03T14:28:20.437304:Cluster Index\tVoxels\tP\t-log10(P)\tMAX\tMAX X (vox)\tMAX Y (vox)\tMAX Z (vox)\tCOG X (vox)\tCOG Y (vox)\tCOG Z (vox)\n",
      "INFO:interface:stdout 2017-08-03T14:28:20.437304:2\t11929\t8.17e-11\t10.1\t6.09\t36\t32\t49\t44.5\t31.2\t55.6\n",
      "INFO:interface:stdout 2017-08-03T14:28:20.437304:1\t11363\t1.88e-10\t9.73\t6\t64\t75\t48\t49.8\t68.5\t50.9\n",
      "INFO:interface:stdout 2017-08-03T14:28:21.727975:DLH 0.014318\n",
      "INFO:interface:stdout 2017-08-03T14:28:21.727975:VOLUME 208223\n",
      "INFO:interface:stdout 2017-08-03T14:28:21.727975:RESELS 322.438\n",
      "/Users/steph-backup/anaconda/lib/python2.7/site-packages/nipype-0.11.0-py2.7.egg/nipype/interfaces/base.py:419: UserWarning: Input pthreshold requires inputs: dlh, volume\n",
      "  warn(msg)\n",
      "INFO:interface:stdout 2017-08-03T14:28:22.049143:Cluster Index\tVoxels\tP\t-log10(P)\tMAX\tMAX X (vox)\tMAX Y (vox)\tMAX Z (vox)\tCOG X (vox)\tCOG Y (vox)\tCOG Z (vox)\n",
      "INFO:interface:stdout 2017-08-03T14:28:22.049143:2\t5066\t1.07e-06\t5.97\t3.79\t68\t71\t57\t59.1\t77.9\t42.5\n",
      "INFO:interface:stdout 2017-08-03T14:28:22.049143:1\t2700\t0.000348\t3.46\t3.9\t45\t17\t32\t46.7\t23.6\t34.6\n"
     ]
    }
   ],
   "source": [
    "os.environ[\"SUBJECTS_DIR\"] = '/Volumes/group/awagner/sgagnon/SST/data'\n",
    "os.environ[\"LYMAN_DIR\"] = '/Volumes/group/awagner/sgagnon/SST/scripts'\n",
    "exp = 'mvpa'\n",
    "altmodel = 'goodruntype_filt'\n",
    "subjects = '/Volumes/group/awagner/sgagnon/SST/scripts/subjects.txt'\n",
    "basedir = '/Volumes/group/awagner/sgagnon/SST/analysis/mvpa-goodruntype_filt/group/probe-habit_control-stress_mumford'\n",
    "\n",
    "project = lyman.gather_project_info()\n",
    "exp_info = lyman.gather_experiment_info(exp, altmodel)\n",
    "\n",
    "subject_list = lyman.determine_subjects([subjects])\n",
    "subj_source = Node(IdentityInterface(fields=[\"subject_id\"]),\n",
    "                   name=\"subj_source\")\n",
    "subj_source.inputs.subject_id = subject_list\n",
    "\n",
    "for contrast_num in [1, 2, 3]:\n",
    "    \n",
    "    # Estimate smoothness\n",
    "    smoothest = fsl.SmoothEstimate()\n",
    "    smoothest.inputs.mask_file = basedir + '/stats/mask.nii.gz'\n",
    "    smoothest.inputs.zstat_file = basedir + '/stats/zstat'+str(contrast_num)+'.nii.gz'\n",
    "    smooth = smoothest.run()\n",
    "    \n",
    "    # Cluster correct\n",
    "    cluster = fsl.Cluster(in_file=smoothest.inputs.zstat_file,\n",
    "                          threshold=exp_info[\"cluster_zthresh\"],\n",
    "                          pthreshold=exp_info[\"grf_pthresh\"],\n",
    "                          out_threshold_file=basedir+'/zstat'+str(contrast_num)+'_threshold.nii.gz',\n",
    "                          out_index_file=basedir+'/zstat'+str(contrast_num)+'_index.nii.gz',\n",
    "                          out_localmax_txt_file=basedir+'/zstat'+str(contrast_num)+'_localmax.txt',\n",
    "                          peak_distance=exp_info[\"peak_distance\"],\n",
    "                          use_mm=True,\n",
    "                          dlh=smooth.outputs.dlh,\n",
    "                          volume=smooth.outputs.volume)\n",
    "    cluster.run()"
   ]
  },
  {
   "cell_type": "code",
   "execution_count": 16,
   "metadata": {
    "collapsed": false
   },
   "outputs": [
    {
     "name": "stderr",
     "output_type": "stream",
     "text": [
      "INFO:interface:stdout 2017-08-04T13:39:50.869273:DLH 0.00103033\n",
      "INFO:interface:stdout 2017-08-04T13:39:50.869273:VOLUME 19330\n",
      "INFO:interface:stdout 2017-08-04T13:39:50.869273:RESELS 4480.76\n",
      "/Users/steph-backup/anaconda/lib/python2.7/site-packages/nipype-0.11.0-py2.7.egg/nipype/interfaces/base.py:419: UserWarning: Input pthreshold requires inputs: dlh, volume\n",
      "  warn(msg)\n",
      "INFO:interface:stdout 2017-08-04T13:39:52.062246:Cluster Index\tVoxels\tP\t-log10(P)\tMAX\tMAX X (vox)\tMAX Y (vox)\tMAX Z (vox)\tCOG X (vox)\tCOG Y (vox)\tCOG Z (vox)\n",
      "INFO:interface:stdout 2017-08-04T13:39:52.062246:5\t3509\t0.0155\t1.81\t5.54\t66\t70\t54\t63.8\t74.4\t50.8\n",
      "INFO:interface:stdout 2017-08-04T13:39:52.062246:4\t3375\t0.0164\t1.78\t5.65\t23\t77\t52\t25\t71.6\t55.9\n",
      "INFO:interface:stdout 2017-08-04T13:39:52.062246:3\t1782\t0.0352\t1.45\t5.58\t26\t27\t55\t23.8\t34.1\t57.2\n",
      "INFO:interface:stdout 2017-08-04T13:39:52.062246:2\t1544\t0.0401\t1.4\t5.4\t61\t33\t59\t62.8\t32.5\t58.3\n",
      "INFO:interface:stdout 2017-08-04T13:39:52.062246:1\t1279\t0.0467\t1.33\t4.34\t33\t91\t36\t29.9\t91.2\t37.2\n",
      "INFO:interface:stdout 2017-08-04T13:39:53.973479:DLH 0.00397343\n",
      "INFO:interface:stdout 2017-08-04T13:39:53.973479:VOLUME 19330\n",
      "INFO:interface:stdout 2017-08-04T13:39:53.973479:RESELS 1161.88\n",
      "/Users/steph-backup/anaconda/lib/python2.7/site-packages/nipype-0.11.0-py2.7.egg/nipype/interfaces/base.py:419: UserWarning: Input pthreshold requires inputs: dlh, volume\n",
      "  warn(msg)\n",
      "INFO:interface:stdout 2017-08-04T13:39:54.398254:Cluster Index\tVoxels\tP\t-log10(P)\tMAX\tMAX X (vox)\tMAX Y (vox)\tMAX Z (vox)\tCOG X (vox)\tCOG Y (vox)\tCOG Z (vox)\n",
      "INFO:interface:stdout 2017-08-04T13:39:54.398254:3\t1883\t0.0144\t1.84\t6\t64\t75\t48\t63.5\t69.9\t55.9\n",
      "INFO:interface:stdout 2017-08-04T13:39:54.398254:2\t1878\t0.0144\t1.84\t4.75\t18\t77\t49\t25.5\t70.9\t56.4\n",
      "INFO:interface:stdout 2017-08-04T13:39:54.398254:1\t1016\t0.0493\t1.31\t5.04\t58\t28\t60\t61.3\t31.9\t58.8\n",
      "INFO:interface:stdout 2017-08-04T13:39:55.364238:DLH 0.00739828\n",
      "INFO:interface:stdout 2017-08-04T13:39:55.364238:VOLUME 19330\n",
      "INFO:interface:stdout 2017-08-04T13:39:55.364238:RESELS 624.019\n",
      "/Users/steph-backup/anaconda/lib/python2.7/site-packages/nipype-0.11.0-py2.7.egg/nipype/interfaces/base.py:419: UserWarning: Input pthreshold requires inputs: dlh, volume\n",
      "  warn(msg)\n",
      "INFO:interface:stdout 2017-08-04T13:39:55.767112:Cluster Index\tVoxels\tP\t-log10(P)\tMAX\tMAX X (vox)\tMAX Y (vox)\tMAX Z (vox)\tCOG X (vox)\tCOG Y (vox)\tCOG Z (vox)\n"
     ]
    }
   ],
   "source": [
    "os.environ[\"SUBJECTS_DIR\"] = '/Volumes/group/awagner/sgagnon/SST/data'\n",
    "os.environ[\"LYMAN_DIR\"] = '/Volumes/group/awagner/sgagnon/SST/scripts'\n",
    "exp = 'mvpa'\n",
    "altmodel = 'goodruntype_filt'\n",
    "subjects = '/Volumes/group/awagner/sgagnon/SST/scripts/subjects.txt'\n",
    "basedir = '/Volumes/group/awagner/sgagnon/SST/analysis/mvpa-goodruntype_filt/group/probe-habit_control-stress_mumford_restrictedROI'\n",
    "\n",
    "project = lyman.gather_project_info()\n",
    "exp_info = lyman.gather_experiment_info(exp, altmodel)\n",
    "\n",
    "subject_list = lyman.determine_subjects([subjects])\n",
    "subj_source = Node(IdentityInterface(fields=[\"subject_id\"]),\n",
    "                   name=\"subj_source\")\n",
    "subj_source.inputs.subject_id = subject_list\n",
    "\n",
    "for contrast_num in [1, 2, 3]:\n",
    "    \n",
    "    # Estimate smoothness\n",
    "    smoothest = fsl.SmoothEstimate()\n",
    "    smoothest.inputs.mask_file = basedir + '/stats/mask.nii.gz'\n",
    "    smoothest.inputs.zstat_file = basedir + '/stats/zstat'+str(contrast_num)+'.nii.gz'\n",
    "    smooth = smoothest.run()\n",
    "    \n",
    "    # Cluster correct\n",
    "    cluster = fsl.Cluster(in_file=smoothest.inputs.zstat_file,\n",
    "                          threshold=exp_info[\"cluster_zthresh\"],\n",
    "                          pthreshold=exp_info[\"grf_pthresh\"],\n",
    "                          out_threshold_file=basedir+'/zstat'+str(contrast_num)+'_threshold.nii.gz',\n",
    "                          out_index_file=basedir+'/zstat'+str(contrast_num)+'_index.nii.gz',\n",
    "                          out_localmax_txt_file=basedir+'/zstat'+str(contrast_num)+'_localmax.txt',\n",
    "                          use_mm=True,\n",
    "                          dlh=smooth.outputs.dlh,\n",
    "                          volume=smooth.outputs.volume)\n",
    "    cluster.run()"
   ]
  },
  {
   "cell_type": "code",
   "execution_count": 17,
   "metadata": {
    "collapsed": false
   },
   "outputs": [
    {
     "name": "stderr",
     "output_type": "stream",
     "text": [
      "INFO:interface:stdout 2017-08-08T09:59:00.534296:DLH 0.0175147\n",
      "INFO:interface:stdout 2017-08-08T09:59:00.534296:VOLUME 208256\n",
      "INFO:interface:stdout 2017-08-08T09:59:00.534296:RESELS 263.587\n",
      "/Users/steph-backup/anaconda/lib/python2.7/site-packages/nipype-0.11.0-py2.7.egg/nipype/interfaces/base.py:419: UserWarning: Input pthreshold requires inputs: dlh, volume\n",
      "  warn(msg)\n",
      "INFO:interface:stdout 2017-08-08T09:59:01.609877:Cluster Index\tVoxels\tP\t-log10(P)\tMAX\tMAX X (vox)\tMAX Y (vox)\tMAX Z (vox)\tCOG X (vox)\tCOG Y (vox)\tCOG Z (vox)\n",
      "INFO:interface:stdout 2017-08-08T09:59:01.609877:4\t2996\t3.47e-05\t4.46\t4.65\t72\t43\t39\t71.8\t47.2\t37.7\n",
      "INFO:interface:stdout 2017-08-08T09:59:01.609877:3\t1860\t0.00141\t2.85\t3.72\t46\t88\t27\t36.4\t88\t40.7\n",
      "INFO:interface:stdout 2017-08-08T09:59:01.609877:2\t1716\t0.00236\t2.63\t3.94\t71\t71\t39\t64.7\t73.8\t41.3\n",
      "INFO:interface:stdout 2017-08-08T09:59:01.609877:1\t1631\t0.00323\t2.49\t3.83\t58\t89\t45\t52\t87.7\t49.4\n",
      "INFO:interface:stdout 2017-08-08T09:59:03.755797:DLH 0.0045144\n",
      "INFO:interface:stdout 2017-08-08T09:59:03.755797:VOLUME 208256\n",
      "INFO:interface:stdout 2017-08-08T09:59:03.755797:RESELS 1022.65\n",
      "/Users/steph-backup/anaconda/lib/python2.7/site-packages/nipype-0.11.0-py2.7.egg/nipype/interfaces/base.py:419: UserWarning: Input pthreshold requires inputs: dlh, volume\n",
      "  warn(msg)\n",
      "INFO:interface:stdout 2017-08-08T09:59:04.228947:Cluster Index\tVoxels\tP\t-log10(P)\tMAX\tMAX X (vox)\tMAX Y (vox)\tMAX Z (vox)\tCOG X (vox)\tCOG Y (vox)\tCOG Z (vox)\n",
      "INFO:interface:stdout 2017-08-08T09:59:05.309919:DLH 0.0048401\n",
      "INFO:interface:stdout 2017-08-08T09:59:05.309919:VOLUME 208256\n",
      "INFO:interface:stdout 2017-08-08T09:59:05.309919:RESELS 953.835\n",
      "/Users/steph-backup/anaconda/lib/python2.7/site-packages/nipype-0.11.0-py2.7.egg/nipype/interfaces/base.py:419: UserWarning: Input pthreshold requires inputs: dlh, volume\n",
      "  warn(msg)\n",
      "INFO:interface:stdout 2017-08-08T09:59:05.666051:Cluster Index\tVoxels\tP\t-log10(P)\tMAX\tMAX X (vox)\tMAX Y (vox)\tMAX Z (vox)\tCOG X (vox)\tCOG Y (vox)\tCOG Z (vox)\n",
      "INFO:interface:stdout 2017-08-08T09:59:05.666051:1\t46232\t2.25e-15\t14.6\t5.36\t71\t72\t38\t46.9\t58.7\t43.1\n"
     ]
    }
   ],
   "source": [
    "os.environ[\"SUBJECTS_DIR\"] = '/Volumes/group/awagner/sgagnon/SST/data'\n",
    "os.environ[\"LYMAN_DIR\"] = '/Volumes/group/awagner/sgagnon/SST/scripts'\n",
    "exp = 'mvpa'\n",
    "altmodel = 'goodruntype_filt'\n",
    "subjects = '/Volumes/group/awagner/sgagnon/SST/scripts/subjects.txt'\n",
    "basedir = '/Volumes/group/awagner/sgagnon/SST/analysis/mvpa-goodruntype_filt/group/probe1v2_control-stress_mumford'\n",
    "\n",
    "project = lyman.gather_project_info()\n",
    "exp_info = lyman.gather_experiment_info(exp, altmodel)\n",
    "\n",
    "subject_list = lyman.determine_subjects([subjects])\n",
    "subj_source = Node(IdentityInterface(fields=[\"subject_id\"]),\n",
    "                   name=\"subj_source\")\n",
    "subj_source.inputs.subject_id = subject_list\n",
    "\n",
    "for contrast_num in [1, 2, 3]:\n",
    "    \n",
    "    # Estimate smoothness\n",
    "    smoothest = fsl.SmoothEstimate()\n",
    "    smoothest.inputs.mask_file = basedir + '/stats/mask.nii.gz'\n",
    "    smoothest.inputs.zstat_file = basedir + '/stats/zstat'+str(contrast_num)+'.nii.gz'\n",
    "    smooth = smoothest.run()\n",
    "    \n",
    "    # Cluster correct\n",
    "    cluster = fsl.Cluster(in_file=smoothest.inputs.zstat_file,\n",
    "                          threshold=exp_info[\"cluster_zthresh\"],\n",
    "                          pthreshold=exp_info[\"grf_pthresh\"],\n",
    "                          out_threshold_file=basedir+'/zstat'+str(contrast_num)+'_threshold.nii.gz',\n",
    "                          out_index_file=basedir+'/zstat'+str(contrast_num)+'_index.nii.gz',\n",
    "                          out_localmax_txt_file=basedir+'/zstat'+str(contrast_num)+'_localmax.txt',\n",
    "                          use_mm=True,\n",
    "                          dlh=smooth.outputs.dlh,\n",
    "                          volume=smooth.outputs.volume)\n",
    "    cluster.run()"
   ]
  },
  {
   "cell_type": "code",
   "execution_count": null,
   "metadata": {
    "collapsed": true
   },
   "outputs": [],
   "source": []
  }
 ],
 "metadata": {
  "kernelspec": {
   "display_name": "Python 2",
   "language": "python",
   "name": "python2"
  },
  "language_info": {
   "codemirror_mode": {
    "name": "ipython",
    "version": 2
   },
   "file_extension": ".py",
   "mimetype": "text/x-python",
   "name": "python",
   "nbconvert_exporter": "python",
   "pygments_lexer": "ipython2",
   "version": "2.7.12"
  }
 },
 "nbformat": 4,
 "nbformat_minor": 0
}
